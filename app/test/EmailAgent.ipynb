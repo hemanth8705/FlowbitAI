{
 "cells": [
  {
   "cell_type": "code",
   "execution_count": 2,
   "id": "0f916b8e",
   "metadata": {},
   "outputs": [
    {
     "data": {
      "text/plain": [
       "'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'"
      ]
     },
     "execution_count": 2,
     "metadata": {},
     "output_type": "execute_result"
    }
   ],
   "source": [
    "import os\n",
    "from dotenv import load_dotenv\n",
    "load_dotenv()\n",
    "\n",
    "groq_api_key=os.getenv(\"GROQ_API_KEY\")\n",
    "groq_api_key\n"
   ]
  },
  {
   "cell_type": "code",
   "execution_count": 3,
   "id": "4da8532a",
   "metadata": {},
   "outputs": [
    {
     "data": {
      "text/plain": [
       "ChatGroq(client=<groq.resources.chat.completions.Completions object at 0x000001F447A2C4F0>, async_client=<groq.resources.chat.completions.AsyncCompletions object at 0x000001F447A2DD20>, model_name='Gemma2-9b-It', model_kwargs={}, groq_api_key=SecretStr('**********'))"
      ]
     },
     "execution_count": 3,
     "metadata": {},
     "output_type": "execute_result"
    }
   ],
   "source": [
    "from langchain_groq import ChatGroq\n",
    "llm = ChatGroq(model=\"Gemma2-9b-It\" , groq_api_key=groq_api_key)\n",
    "llm"
   ]
  },
  {
   "cell_type": "code",
   "execution_count": 4,
   "id": "1b351fea",
   "metadata": {},
   "outputs": [
    {
     "name": "stderr",
     "output_type": "stream",
     "text": [
      "C:\\Users\\SYAM\\AppData\\Local\\Temp\\ipykernel_19740\\1253815524.py:34: LangChainDeprecationWarning: The class `LLMChain` was deprecated in LangChain 0.1.17 and will be removed in 1.0. Use :meth:`~RunnableSequence, e.g., `prompt | llm`` instead.\n",
      "  email_agent_chain = LLMChain(prompt=email_extraction_prompt, llm=llm)\n"
     ]
    }
   ],
   "source": [
    "from langchain.prompts import PromptTemplate\n",
    "from langchain.chains import LLMChain\n",
    "import json\n",
    "\n",
    "# Define prompt template\n",
    "email_extraction_prompt = PromptTemplate(\n",
    "    input_variables=[\"email\"],\n",
    "    template=\"\"\"\n",
    "You are an intelligent email processing agent.\n",
    "\n",
    "Your task is to extract the following fields from the email text:\n",
    "- Sender\n",
    "- Urgency (High, Medium, Low)\n",
    "- Issue or Request\n",
    "- Tone (Escalation, Polite, Threatening)\n",
    "\n",
    "Here is the email:\n",
    "{email}\n",
    "\n",
    "\n",
    "i will directy use json.loads(response) method on ur output so do respond in valid JSON format only.\n",
    "Respond in the following JSON format:\n",
    "{{\n",
    "  \"sender\": \"...\",\n",
    "  \"urgency\": \"...\",\n",
    "  \"issue_or_request\": \"...\",\n",
    "  \"tone\": \"...\"\n",
    "}}\n",
    "\n",
    "\"\"\"\n",
    ")\n",
    "\n",
    "# LLM and chain\n",
    "email_agent_chain = LLMChain(prompt=email_extraction_prompt, llm=llm)\n",
    "\n",
    "# Sample email input\n",
    "email_text = \"\"\"\n",
    "From: manager@corp.com\n",
    "Subject: Urgent Complaint\n",
    "Body: We’ve been facing repeated issues with the delivery timelines. Please address this at the earliest.\n",
    "\"\"\"\n",
    "\n"
   ]
  },
  {
   "cell_type": "code",
   "execution_count": 5,
   "id": "6cc6aa06",
   "metadata": {},
   "outputs": [
    {
     "name": "stderr",
     "output_type": "stream",
     "text": [
      "C:\\Users\\SYAM\\AppData\\Local\\Temp\\ipykernel_19740\\3122362028.py:2: LangChainDeprecationWarning: The method `Chain.run` was deprecated in langchain 0.1.0 and will be removed in 1.0. Use :meth:`~invoke` instead.\n",
      "  response = email_agent_chain.run(email=email_text)\n"
     ]
    }
   ],
   "source": [
    "# Run the agent\n",
    "response = email_agent_chain.run(email=email_text)\n"
   ]
  },
  {
   "cell_type": "code",
   "execution_count": 12,
   "id": "82c78d4c",
   "metadata": {},
   "outputs": [
    {
     "name": "stdout",
     "output_type": "stream",
     "text": [
      "🟢 Extracted Email Fields: {'sender': 'manager@corp.com', 'urgency': 'High', 'issue_or_request': 'Addressing repeated issues with delivery timelines', 'tone': 'Escalation'}\n"
     ]
    },
    {
     "data": {
      "text/plain": [
       "'```json\\n{\\n  \"sender\": \"manager@corp.com\",\\n  \"urgency\": \"High\",\\n  \"issue_or_request\": \"Addressing repeated issues with delivery timelines\",\\n  \"tone\": \"Escalation\"\\n}\\n```'"
      ]
     },
     "execution_count": 12,
     "metadata": {},
     "output_type": "execute_result"
    }
   ],
   "source": [
    "# Parse and print output\n",
    "try:\n",
    "    extracted = json.loads(response[7:-3])\n",
    "    print(\"🟢 Extracted Email Fields:\", extracted)\n",
    "except json.JSONDecodeError:\n",
    "    print(\"🔴 Failed to parse response:\", response)\n",
    "response"
   ]
  },
  {
   "cell_type": "code",
   "execution_count": null,
   "id": "5388a17a",
   "metadata": {},
   "outputs": [
    {
     "name": "stdout",
     "output_type": "stream",
     "text": [
      "\n",
      "{\n",
      "  \"sender\": \"manager@corp.com\",\n",
      "  \"urgency\": \"High\",\n",
      "  \"issue_or_request\": \"Addressing repeated issues with delivery timelines\",\n",
      "  \"tone\": \"Escalation\"\n",
      "}\n",
      "\n"
     ]
    }
   ],
   "source": [
    "print(response[7:-3]) "
   ]
  },
  {
   "cell_type": "code",
   "execution_count": null,
   "id": "a3f44b4a",
   "metadata": {},
   "outputs": [],
   "source": []
  }
 ],
 "metadata": {
  "kernelspec": {
   "display_name": "langchain_venv",
   "language": "python",
   "name": "python3"
  },
  "language_info": {
   "codemirror_mode": {
    "name": "ipython",
    "version": 3
   },
   "file_extension": ".py",
   "mimetype": "text/x-python",
   "name": "python",
   "nbconvert_exporter": "python",
   "pygments_lexer": "ipython3",
   "version": "3.10.10"
  }
 },
 "nbformat": 4,
 "nbformat_minor": 5
}
