{
 "cells": [
  {
   "cell_type": "code",
   "execution_count": 2,
   "id": "f926af62",
   "metadata": {},
   "outputs": [
    {
     "name": "stdout",
     "output_type": "stream",
     "text": [
      "Collecting pdfplumber\n",
      "  Downloading pdfplumber-0.11.6-py3-none-any.whl (60 kB)\n",
      "     -------------------------------------- 60.2/60.2 kB 793.5 kB/s eta 0:00:00\n",
      "Requirement already satisfied: pytesseract in e:\\langflow_directory\\langchain_venv\\lib\\site-packages (0.3.13)\n",
      "Collecting pdf2image\n",
      "  Downloading pdf2image-1.17.0-py3-none-any.whl (11 kB)\n",
      "Requirement already satisfied: Pillow in e:\\langflow_directory\\langchain_venv\\lib\\site-packages (10.4.0)\n",
      "Collecting pypdfium2>=4.18.0\n",
      "  Downloading pypdfium2-4.30.1-py3-none-win_amd64.whl (3.0 MB)\n",
      "     ---------------------------------------- 3.0/3.0 MB 3.4 MB/s eta 0:00:00\n",
      "Collecting pdfminer.six==20250327\n",
      "  Downloading pdfminer_six-20250327-py3-none-any.whl (5.6 MB)\n",
      "     ---------------------------------------- 5.6/5.6 MB 6.8 MB/s eta 0:00:00\n",
      "Requirement already satisfied: charset-normalizer>=2.0.0 in e:\\langflow_directory\\langchain_venv\\lib\\site-packages (from pdfminer.six==20250327->pdfplumber) (3.4.0)\n",
      "Collecting cryptography>=36.0.0\n",
      "  Downloading cryptography-45.0.3-cp37-abi3-win_amd64.whl (3.4 MB)\n",
      "     ---------------------------------------- 3.4/3.4 MB 7.0 MB/s eta 0:00:00\n",
      "Requirement already satisfied: packaging>=21.3 in e:\\langflow_directory\\langchain_venv\\lib\\site-packages (from pytesseract) (24.1)\n",
      "Collecting cffi>=1.14\n",
      "  Using cached cffi-1.17.1-cp310-cp310-win_amd64.whl (181 kB)\n",
      "Collecting pycparser\n",
      "  Using cached pycparser-2.22-py3-none-any.whl (117 kB)\n",
      "Installing collected packages: pypdfium2, pycparser, pdf2image, cffi, cryptography, pdfminer.six, pdfplumber\n",
      "Successfully installed cffi-1.17.1 cryptography-45.0.3 pdf2image-1.17.0 pdfminer.six-20250327 pdfplumber-0.11.6 pycparser-2.22 pypdfium2-4.30.1\n"
     ]
    },
    {
     "name": "stderr",
     "output_type": "stream",
     "text": [
      "WARNING: Ignoring invalid distribution -rotobuf (e:\\langflow_directory\\langchain_venv\\lib\\site-packages)\n",
      "WARNING: Ignoring invalid distribution -rotobuf (e:\\langflow_directory\\langchain_venv\\lib\\site-packages)\n",
      "WARNING: Ignoring invalid distribution -rotobuf (e:\\langflow_directory\\langchain_venv\\lib\\site-packages)\n",
      "WARNING: Ignoring invalid distribution -rotobuf (e:\\langflow_directory\\langchain_venv\\lib\\site-packages)\n",
      "WARNING: Ignoring invalid distribution -rotobuf (e:\\langflow_directory\\langchain_venv\\lib\\site-packages)\n",
      "WARNING: Ignoring invalid distribution -rotobuf (e:\\langflow_directory\\langchain_venv\\lib\\site-packages)\n",
      "WARNING: Ignoring invalid distribution -rotobuf (e:\\langflow_directory\\langchain_venv\\lib\\site-packages)\n",
      "WARNING: Ignoring invalid distribution -rotobuf (e:\\langflow_directory\\langchain_venv\\lib\\site-packages)\n",
      "WARNING: Ignoring invalid distribution -rotobuf (e:\\langflow_directory\\langchain_venv\\lib\\site-packages)\n",
      "WARNING: Ignoring invalid distribution -rotobuf (e:\\langflow_directory\\langchain_venv\\lib\\site-packages)\n",
      "WARNING: Ignoring invalid distribution -rotobuf (e:\\langflow_directory\\langchain_venv\\lib\\site-packages)\n",
      "WARNING: Ignoring invalid distribution -rotobuf (e:\\langflow_directory\\langchain_venv\\lib\\site-packages)\n",
      "WARNING: Ignoring invalid distribution -rotobuf (e:\\langflow_directory\\langchain_venv\\lib\\site-packages)\n",
      "\n",
      "[notice] A new release of pip available: 22.3.1 -> 25.1.1\n",
      "[notice] To update, run: python.exe -m pip install --upgrade pip\n"
     ]
    }
   ],
   "source": [
    "!pip install pdfplumber pytesseract pdf2image Pillow"
   ]
  },
  {
   "cell_type": "code",
   "execution_count": 3,
   "id": "63a1e72a",
   "metadata": {},
   "outputs": [],
   "source": [
    "import os\n",
    "import json\n",
    "import pdfplumber\n",
    "import pytesseract\n",
    "from pdf2image import convert_from_path\n",
    "from PIL import Image"
   ]
  },
  {
   "cell_type": "code",
   "execution_count": 4,
   "id": "8cce445c",
   "metadata": {},
   "outputs": [],
   "source": [
    "# --- PDF text extraction and OCR ---\n",
    "def extract_text_and_tables(pdf_path):\n",
    "    all_data = []\n",
    "\n",
    "    # Use pdfplumber for text + table extraction\n",
    "    with pdfplumber.open(pdf_path) as pdf:\n",
    "        for i, page in enumerate(pdf.pages):\n",
    "            page_data = {\n",
    "                \"page_number\": i + 1,\n",
    "                \"text\": page.extract_text() or \"\",\n",
    "                \"tables\": [],\n",
    "                \"ocr_text\": \"\"\n",
    "            }\n",
    "\n",
    "            # Extract tables and store as list of rows\n",
    "            tables = page.extract_tables()\n",
    "            for table in tables:\n",
    "                cleaned_table = [row for row in table if any(cell is not None for cell in row)]\n",
    "                if cleaned_table:\n",
    "                    page_data[\"tables\"].append(cleaned_table)\n",
    "\n",
    "            # If no text and tables found → apply OCR\n",
    "            if not page_data[\"text\"].strip() and not page_data[\"tables\"]:\n",
    "                img = page.to_image(resolution=300).original\n",
    "                ocr_text = pytesseract.image_to_string(img)\n",
    "                page_data[\"ocr_text\"] = ocr_text.strip()\n",
    "\n",
    "            all_data.append(page_data)\n",
    "\n",
    "    return all_data"
   ]
  },
  {
   "cell_type": "code",
   "execution_count": 5,
   "id": "96ed9e4a",
   "metadata": {},
   "outputs": [],
   "source": [
    "# --- Convert JSON data into human-readable text ---\n",
    "def json_to_llm_text(data: dict, indent=0) -> str:\n",
    "    \"\"\"\n",
    "    Converts JSON/dictionary into human-readable, structured text\n",
    "    suitable as an LLM input prompt.\n",
    "    \"\"\"\n",
    "    output_lines = []\n",
    "    indent_str = '  ' * indent\n",
    "\n",
    "    if isinstance(data, dict):\n",
    "        for key, value in data.items():\n",
    "            if isinstance(value, (dict, list)):\n",
    "                output_lines.append(f\"{indent_str}{key.capitalize()}:\")\n",
    "                output_lines.append(json_to_llm_text(value, indent + 1))\n",
    "            else:\n",
    "                output_lines.append(f\"{indent_str}{key.capitalize()}: {value}\")\n",
    "    elif isinstance(data, list):\n",
    "        for idx, item in enumerate(data):\n",
    "            output_lines.append(f\"{indent_str}- Item {idx + 1}:\")\n",
    "            output_lines.append(json_to_llm_text(item, indent + 1))\n",
    "    else:\n",
    "        output_lines.append(f\"{indent_str}{data}\")\n",
    "\n",
    "    return \"\\n\".join(output_lines)\n"
   ]
  },
  {
   "cell_type": "code",
   "execution_count": 6,
   "id": "5dec531e",
   "metadata": {},
   "outputs": [],
   "source": [
    "# --- File type detection and processing ---\n",
    "def process_file(file_path):\n",
    "    file_extension = file_path.split('.')[-1].lower()\n",
    "\n",
    "    if file_extension == \"txt\":\n",
    "        # Read and return plain text from a .txt file\n",
    "        with open(file_path, 'r', encoding='utf-8') as file:\n",
    "            text = file.read()\n",
    "        return text\n",
    "\n",
    "    elif file_extension == \"json\":\n",
    "        # Read and parse JSON data from a .json file\n",
    "        with open(file_path, 'r', encoding='utf-8') as file:\n",
    "            data = json.load(file)\n",
    "        return json_to_llm_text(data)\n",
    "\n",
    "    elif file_extension == \"pdf\":\n",
    "        # Process the PDF file (extract text, tables, and OCR)\n",
    "        extracted_data = extract_text_and_tables(file_path)\n",
    "        return json_to_llm_text(extracted_data)\n",
    "\n",
    "    else:\n",
    "        raise ValueError(\"Unsupported file format. Please provide a .txt, .json, or .pdf file.\")\n"
   ]
  },
  {
   "cell_type": "code",
   "execution_count": 13,
   "id": "b09a7311",
   "metadata": {},
   "outputs": [
    {
     "name": "stdout",
     "output_type": "stream",
     "text": [
      "\n",
      "Extracted Information:\n",
      "- Item 1:\n",
      "  Invoice_number: INV12345\n",
      "  Amount: 2000.0\n",
      "  Date: 2025-05-15\n",
      "  Vendor: TechSolutions Inc.\n",
      "  Items:\n",
      "    - Item 1:\n",
      "      Description: Software License\n",
      "      Quantity: 1\n",
      "      Price: 2000.0\n",
      "  Intent: Invoice\n",
      "- Item 2:\n",
      "  Invoice_number: INV67890\n",
      "  Amount: 12000.0\n",
      "  Date: 2025-06-01\n",
      "  Vendor: Office Supplies Co.\n",
      "  Items:\n",
      "    - Item 1:\n",
      "      Description: Office Chairs\n",
      "      Quantity: 50\n",
      "      Price: 200.0\n",
      "    - Item 2:\n",
      "      Description: Desks\n",
      "      Quantity: 20\n",
      "      Price: 400.0\n",
      "  Intent: Invoice\n"
     ]
    }
   ],
   "source": [
    "# --- Main function to handle user input ---\n",
    "def main():\n",
    "    # Get the file path from the user\n",
    "    file_path = r\"E:\\langflow_directory\\gitRepos\\AgenticAI\\sampleFiles\\json\\sample2.json\"\n",
    "\n",
    "    if not os.path.exists(file_path):\n",
    "        print(\"File does not exist. Please check the file path and try again.\")\n",
    "        return\n",
    "\n",
    "    try:\n",
    "        result = process_file(file_path)\n",
    "        print(\"\\nExtracted Information:\")\n",
    "        print(result)\n",
    "    except ValueError as e:\n",
    "        print(f\"Error: {e}\")\n",
    "\n",
    "\n",
    "if __name__ == \"__main__\":\n",
    "    main()\n"
   ]
  },
  {
   "cell_type": "code",
   "execution_count": null,
   "id": "73cca620",
   "metadata": {},
   "outputs": [],
   "source": []
  }
 ],
 "metadata": {
  "kernelspec": {
   "display_name": "langchain_venv",
   "language": "python",
   "name": "python3"
  },
  "language_info": {
   "codemirror_mode": {
    "name": "ipython",
    "version": 3
   },
   "file_extension": ".py",
   "mimetype": "text/x-python",
   "name": "python",
   "nbconvert_exporter": "python",
   "pygments_lexer": "ipython3",
   "version": "3.10.10"
  }
 },
 "nbformat": 4,
 "nbformat_minor": 5
}
