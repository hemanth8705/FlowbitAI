{
 "cells": [
  {
   "cell_type": "code",
   "execution_count": 4,
   "id": "fa5e92c6",
   "metadata": {},
   "outputs": [],
   "source": [
    "from langchain.prompts import PromptTemplate, FewShotPromptTemplate\n",
    "from langchain.output_parsers import PydanticOutputParser\n",
    "from pydantic import BaseModel, Field\n",
    "from langchain_groq import ChatGroq\n",
    "import json"
   ]
  },
  {
   "cell_type": "code",
   "execution_count": 8,
   "id": "c84adf56",
   "metadata": {},
   "outputs": [],
   "source": [
    "import os\n",
    "from dotenv import load_dotenv\n",
    "load_dotenv()\n",
    "\n",
    "groq_api_key=os.getenv(\"GROQ_API_KEY\")"
   ]
  },
  {
   "cell_type": "code",
   "execution_count": 30,
   "id": "e5cf7ce3",
   "metadata": {},
   "outputs": [],
   "source": [
    "# Step 1: Define Output Schema using Pydantic\n",
    "class WebhookOutput(BaseModel):\n",
    "    invoice_id: str = Field(..., description=\"The invoice ID from the webhook\")\n",
    "    amount: float = Field(..., description=\"The invoice amount\")\n",
    "    currency: str = Field(..., description=\"Currency code like USD, INR\")\n",
    "    customer_id: str = Field(..., description=\"Customer's unique ID\")\n",
    "    timestamp: str = Field(..., description=\"ISO8601 timestamp of the invoice\")\n",
    "    anomalies: str = Field(..., description=\"Any issues like missing fields, wrong types, or suspicious data\")\n",
    "\n",
    "output_parser = PydanticOutputParser(pydantic_object=WebhookOutput)\n"
   ]
  },
  {
   "cell_type": "code",
   "execution_count": 27,
   "id": "dbf9b319",
   "metadata": {},
   "outputs": [],
   "source": [
    "# Step 2: Setup Few-Shot Examples\n",
    "examples = [\n",
    "    {\n",
    "        \"input\": '{{\"id\": \"INV-9001\", \"total\": 1200, \"cur\": \"USD\", \"cust\": \"CUST-001\", \"time\": \"2025-06-01T15:00:00Z\"}}',\n",
    "        \"output\": '''{{\n",
    "            \"invoice_id\": \"INV-9001\",\n",
    "            \"amount\": 1200,\n",
    "            \"currency\": \"USD\",\n",
    "            \"customer_id\": \"CUST-001\",\n",
    "            \"timestamp\": \"2025-06-01T15:00:00Z\",\n",
    "            \"anomalies\": \"Field names differ from expected: id→invoice_id, total→amount, cur→currency, etc.\"\n",
    "        }}'''\n",
    "    },\n",
    "    {\n",
    "        \"input\": '{{\"invoice_id\": \"INV-1002\", \"amount\": \"not available\", \"currency\": \"USD\"}}',\n",
    "        \"output\":'''{{\n",
    "            \"invoice_id\": \"INV-1002\",\n",
    "            \"amount\": 0,\n",
    "            \"currency\": \"USD\",\n",
    "            \"customer_id\": \"\",\n",
    "            \"timestamp\": \"\",\n",
    "            \"anomalies\": \"Amount not a number. Missing customer_id and timestamp.\"\n",
    "        }}'''\n",
    "    }\n",
    "]\n",
    "\n",
    "example_prompt = PromptTemplate(\n",
    "    input_variables=[\"input\", \"output\"],\n",
    "    template=\"\"\"\n",
    "Input JSON:\n",
    "{input}\n",
    "\n",
    "Expected Output:\n",
    "{output}\n",
    "\"\"\"\n",
    ")\n",
    "\n",
    "few_shot_prompt = FewShotPromptTemplate(\n",
    "    examples=examples,\n",
    "    example_prompt=example_prompt,\n",
    "    suffix=\"Now extract the following fields from this new JSON:\\n{input}\\n\\n{format_instructions}\",\n",
    "    input_variables=[\"input\", \"format_instructions\"],\n",
    "    example_separator=\"\\n\\n\"\n",
    ")\n",
    "\n"
   ]
  },
  {
   "cell_type": "code",
   "execution_count": 31,
   "id": "0f53edaf",
   "metadata": {},
   "outputs": [],
   "source": [
    "\n",
    "# Step 3: Setup LLM Chain\n",
    "llm = ChatGroq(model=\"Gemma2-9b-It\" , groq_api_key=groq_api_key)\n",
    "\n",
    "from langchain.chains import LLMChain\n",
    "json_agent_chain = LLMChain(llm=llm, prompt=few_shot_prompt)"
   ]
  },
  {
   "cell_type": "code",
   "execution_count": 23,
   "id": "2d8c9c67",
   "metadata": {},
   "outputs": [],
   "source": [
    "# Step 4: Run on a New JSON Payload\n",
    "incoming_payload = {\n",
    "    \"invoice_code\": \"INV-8888\",\n",
    "    \"amount\": 950.0,\n",
    "    \"currency\": \"EUR\",\n",
    "    \"client_id\": \"CUST-089\",\n",
    "    \"time_issued\": \"2025-06-02T10:30:00Z\"\n",
    "}\n",
    "\n",
    "safe_format_instructions = output_parser.get_format_instructions().replace(\"{\", \"{{\").replace(\"}\", \"}}\")\n",
    "\n",
    "input_json = json.dumps(incoming_payload, indent=2)"
   ]
  },
  {
   "cell_type": "code",
   "execution_count": 28,
   "id": "936ab42f",
   "metadata": {},
   "outputs": [
    {
     "name": "stdout",
     "output_type": "stream",
     "text": [
      "\n",
      "Input JSON:\n",
      "{\"id\": \"INV-9001\", \"total\": 1200, \"cur\": \"USD\", \"cust\": \"CUST-001\", \"time\": \"2025-06-01T15:00:00Z\"}\n",
      "\n",
      "Expected Output:\n",
      "{\n",
      "            \"invoice_id\": \"INV-9001\",\n",
      "            \"amount\": 1200,\n",
      "            \"currency\": \"USD\",\n",
      "            \"customer_id\": \"CUST-001\",\n",
      "            \"timestamp\": \"2025-06-01T15:00:00Z\",\n",
      "            \"anomalies\": \"Field names differ from expected: id→invoice_id, total→amount, cur→currency, etc.\"\n",
      "        }\n",
      "\n",
      "\n",
      "\n",
      "Input JSON:\n",
      "{\"invoice_id\": \"INV-1002\", \"amount\": \"not available\", \"currency\": \"USD\"}\n",
      "\n",
      "Expected Output:\n",
      "{\n",
      "            \"invoice_id\": \"INV-1002\",\n",
      "            \"amount\": 0,\n",
      "            \"currency\": \"USD\",\n",
      "            \"customer_id\": \"\",\n",
      "            \"timestamp\": \"\",\n",
      "            \"anomalies\": \"Amount not a number. Missing customer_id and timestamp.\"\n",
      "        }\n",
      "\n",
      "\n",
      "Now extract the following fields from this new JSON:\n",
      "{\n",
      "  \"invoice_code\": \"INV-8888\",\n",
      "  \"amount\": 950.0,\n",
      "  \"currency\": \"EUR\",\n",
      "  \"client_id\": \"CUST-089\",\n",
      "  \"time_issued\": \"2025-06-02T10:30:00Z\"\n",
      "}\n",
      "\n",
      "The output should be formatted as a JSON instance that conforms to the JSON schema below.\n",
      "\n",
      "As an example, for the schema {{\"properties\": {{\"foo\": {{\"title\": \"Foo\", \"description\": \"a list of strings\", \"type\": \"array\", \"items\": {{\"type\": \"string\"}}}}}}, \"required\": [\"foo\"]}}\n",
      "the object {{\"foo\": [\"bar\", \"baz\"]}} is a well-formatted instance of the schema. The object {{\"properties\": {{\"foo\": [\"bar\", \"baz\"]}}}} is not well-formatted.\n",
      "\n",
      "Here is the output schema:\n",
      "```\n",
      "{{\"properties\": {{\"invoice_id\": {{\"description\": \"The invoice ID from the webhook\", \"title\": \"Invoice Id\", \"type\": \"string\"}}, \"amount\": {{\"description\": \"The invoice amount\", \"title\": \"Amount\", \"type\": \"number\"}}, \"currency\": {{\"description\": \"Currency code like USD, INR\", \"title\": \"Currency\", \"type\": \"string\"}}, \"customer_id\": {{\"description\": \"Customer's unique ID\", \"title\": \"Customer Id\", \"type\": \"string\"}}, \"timestamp\": {{\"description\": \"ISO8601 timestamp of the invoice\", \"title\": \"Timestamp\", \"type\": \"string\"}}, \"anomalies\": {{\"description\": \"Any issues like missing fields, wrong types, or suspicious data\", \"title\": \"Anomalies\", \"type\": \"string\"}}}}, \"required\": [\"invoice_id\", \"amount\", \"currency\", \"customer_id\", \"timestamp\", \"anomalies\"]}}\n",
      "```\n"
     ]
    }
   ],
   "source": [
    "print(few_shot_prompt.format(input=input_json, format_instructions=safe_format_instructions))"
   ]
  },
  {
   "cell_type": "code",
   "execution_count": 32,
   "id": "fb7cb32d",
   "metadata": {},
   "outputs": [],
   "source": [
    "\n",
    "output_text = json_agent_chain.run(input=input_json, format_instructions=safe_format_instructions)\n"
   ]
  },
  {
   "cell_type": "code",
   "execution_count": 33,
   "id": "f1af9a72",
   "metadata": {},
   "outputs": [
    {
     "data": {
      "text/plain": [
       "'```json\\n{\\n  \"invoice_id\": \"INV-8888\",\\n  \"amount\": 950.0,\\n  \"currency\": \"EUR\",\\n  \"customer_id\": \"CUST-089\",\\n  \"timestamp\": \"2025-06-02T10:30:00Z\",\\n  \"anomalies\": \"\" \\n}\\n``` \\n\\n\\nLet me know if you\\'d like to see how this process would handle a different JSON input with potential anomalies!\\n'"
      ]
     },
     "execution_count": 33,
     "metadata": {},
     "output_type": "execute_result"
    }
   ],
   "source": [
    "output_text"
   ]
  },
  {
   "cell_type": "code",
   "execution_count": 35,
   "id": "23b06e4b",
   "metadata": {},
   "outputs": [
    {
     "name": "stdout",
     "output_type": "stream",
     "text": [
      "🧾 LLM Output (Parsed):\n",
      "{\n",
      "  \"invoice_id\": \"INV-8888\",\n",
      "  \"amount\": 950.0,\n",
      "  \"currency\": \"EUR\",\n",
      "  \"customer_id\": \"CUST-089\",\n",
      "  \"timestamp\": \"2025-06-02T10:30:00Z\",\n",
      "  \"anomalies\": \"\"\n",
      "}\n"
     ]
    }
   ],
   "source": [
    "\n",
    "parsed_output = parser.parse(output_text)\n",
    "\n",
    "print(\"🧾 LLM Output (Parsed):\")\n",
    "print(json.dumps(parsed_output.model_dump(), indent=2))"
   ]
  },
  {
   "cell_type": "code",
   "execution_count": null,
   "id": "877bdae2",
   "metadata": {},
   "outputs": [],
   "source": []
  }
 ],
 "metadata": {
  "kernelspec": {
   "display_name": "langchain_venv",
   "language": "python",
   "name": "python3"
  },
  "language_info": {
   "codemirror_mode": {
    "name": "ipython",
    "version": 3
   },
   "file_extension": ".py",
   "mimetype": "text/x-python",
   "name": "python",
   "nbconvert_exporter": "python",
   "pygments_lexer": "ipython3",
   "version": "3.10.10"
  }
 },
 "nbformat": 4,
 "nbformat_minor": 5
}
