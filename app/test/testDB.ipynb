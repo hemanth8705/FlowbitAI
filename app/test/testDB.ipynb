{
 "cells": [
  {
   "cell_type": "code",
   "execution_count": 11,
   "id": "92e6cfa2",
   "metadata": {},
   "outputs": [],
   "source": [
    "import sqlite3\n",
    "DB_PATH = r\"E:\\langflow_directory\\gitRepos\\FlowbitAI\\app\\memory1.db\"\n"
   ]
  },
  {
   "cell_type": "code",
   "execution_count": 13,
   "id": "833a4b37",
   "metadata": {},
   "outputs": [
    {
     "name": "stdout",
     "output_type": "stream",
     "text": [
      "('83a9c08d-7381-48a5-b42c-d3c6ff595d07', 'upload', 'E:\\\\langflow_directory\\\\gitRepos\\\\FlowbitAI\\\\app\\\\sampleFiles\\\\json\\\\sample3.json', 'json', '2025-06-05 02:08:34', 'json', 'rfq', '{\"format\": \"json\", \"intent\": \"rfq\"}', None, None, '{\"status\": \"valid\", \"anomalies\": [], \"suggested_action\": \"log_and_close\"}', 'json', 'log_and_close', '{}', 'success', 'complete', '2025-06-05T07:38:36.369278', '{\"log\": [{\"timestamp\": \"2025-06-05T07:38:34.229253\", \"event\": \"file_received\", \"details\": {\"source\": \"upload\", \"original_ext\": \"json\", \"file_path\": \"E:\\\\\\\\langflow_directory\\\\\\\\gitRepos\\\\\\\\FlowbitAI\\\\\\\\app\\\\\\\\sampleFiles\\\\\\\\json\\\\\\\\sample3.json\"}}, {\"timestamp\": \"2025-06-05T07:38:35.849972\", \"event\": \"classified\", \"details\": {\"detected_format\": \"json\", \"intent\": \"rfq\", \"llm_output\": \"{\\\\\"format\\\\\": \\\\\"json\\\\\", \\\\\"intent\\\\\": \\\\\"rfq\\\\\"}\", \"routed_to_agent\": \"json\"}}, {\"timestamp\": \"2025-06-05T07:38:36.338268\", \"event\": \"json_processed\", \"details\": {\"json_agent_output\": {\"status\": \"valid\", \"anomalies\": [], \"suggested_action\": \"log_and_close\"}, \"action_taken\": \"log_and_close\", \"action_payload\": {}}}, {\"timestamp\": \"2025-06-05T07:38:36.369278\", \"event\": \"action_routed\", \"details\": {\"action_taken\": \"log_and_close\", \"action_payload\": {}, \"action_status\": \"success\"}}]}')\n"
     ]
    }
   ],
   "source": [
    "with sqlite3.connect(DB_PATH) as conn:\n",
    "    cursor = conn.cursor()\n",
    "    cursor.execute(\"SELECT * FROM workflow_run\")\n",
    "    dbRecords = cursor.fetchall()\n",
    "    for record in dbRecords:\n",
    "        print(record)"
   ]
  },
  {
   "cell_type": "code",
   "execution_count": null,
   "id": "7d732880",
   "metadata": {},
   "outputs": [],
   "source": []
  }
 ],
 "metadata": {
  "kernelspec": {
   "display_name": "langchain_venv",
   "language": "python",
   "name": "python3"
  },
  "language_info": {
   "codemirror_mode": {
    "name": "ipython",
    "version": 3
   },
   "file_extension": ".py",
   "mimetype": "text/x-python",
   "name": "python",
   "nbconvert_exporter": "python",
   "pygments_lexer": "ipython3",
   "version": "3.10.10"
  }
 },
 "nbformat": 4,
 "nbformat_minor": 5
}
