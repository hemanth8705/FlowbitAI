{
 "cells": [
  {
   "cell_type": "code",
   "execution_count": 9,
   "id": "92e6cfa2",
   "metadata": {},
   "outputs": [],
   "source": [
    "import sqlite3\n",
    "DB_PATH = r\"E:\\langflow_directory\\gitRepos\\FlowbitAI\\app\\memory.db\"\n"
   ]
  },
  {
   "cell_type": "code",
   "execution_count": 10,
   "id": "833a4b37",
   "metadata": {},
   "outputs": [
    {
     "name": "stdout",
     "output_type": "stream",
     "text": [
      "(1, 'sample2.txt', 'unknown', 'unknown', 'email_agent', \"{'status': 'processed', 'agent': 'json_agent'}\", 'unknown', '2025-06-04T13:00:04.127117')\n",
      "(2, 'sample2.txt', 'unknown', 'unknown', 'email_agent', \"{'status': 'skipped', 'reason': 'Unknown format'}\", 'unknown', '2025-06-04T13:04:58.553953')\n"
     ]
    }
   ],
   "source": [
    "with sqlite3.connect(DB_PATH) as conn:\n",
    "    cursor = conn.cursor()\n",
    "    cursor.execute(\"SELECT * FROM agent_trace\")\n",
    "    dbRecords = cursor.fetchall()\n",
    "    for record in dbRecords:\n",
    "        print(record)"
   ]
  },
  {
   "cell_type": "code",
   "execution_count": null,
   "id": "7d732880",
   "metadata": {},
   "outputs": [],
   "source": []
  }
 ],
 "metadata": {
  "kernelspec": {
   "display_name": "langchain_venv",
   "language": "python",
   "name": "python3"
  },
  "language_info": {
   "codemirror_mode": {
    "name": "ipython",
    "version": 3
   },
   "file_extension": ".py",
   "mimetype": "text/x-python",
   "name": "python",
   "nbconvert_exporter": "python",
   "pygments_lexer": "ipython3",
   "version": "3.10.10"
  }
 },
 "nbformat": 4,
 "nbformat_minor": 5
}
