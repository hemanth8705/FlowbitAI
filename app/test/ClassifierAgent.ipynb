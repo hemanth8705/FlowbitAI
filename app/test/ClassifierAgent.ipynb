{
 "cells": [
  {
   "cell_type": "code",
   "execution_count": 1,
   "id": "5d1b8d7d",
   "metadata": {},
   "outputs": [
    {
     "name": "stdout",
     "output_type": "stream",
     "text": [
      "hii\n"
     ]
    }
   ],
   "source": [
    "print(\"hii\")"
   ]
  },
  {
   "cell_type": "code",
   "execution_count": 1,
   "id": "1055e748",
   "metadata": {},
   "outputs": [
    {
     "data": {
      "text/plain": [
       "'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'"
      ]
     },
     "execution_count": 1,
     "metadata": {},
     "output_type": "execute_result"
    }
   ],
   "source": [
    "import os\n",
    "from dotenv import load_dotenv\n",
    "load_dotenv()\n",
    "\n",
    "\n",
    "\n",
    "groq_api_key=os.getenv(\"GROQ_API_KEY\")\n",
    "groq_api_key\n"
   ]
  },
  {
   "cell_type": "code",
   "execution_count": 2,
   "id": "3c497f8f",
   "metadata": {},
   "outputs": [
    {
     "data": {
      "text/plain": [
       "ChatGroq(client=<groq.resources.chat.completions.Completions object at 0x000001E01B554310>, async_client=<groq.resources.chat.completions.AsyncCompletions object at 0x000001E01B554FD0>, model_name='Gemma2-9b-It', model_kwargs={}, groq_api_key=SecretStr('**********'))"
      ]
     },
     "execution_count": 2,
     "metadata": {},
     "output_type": "execute_result"
    }
   ],
   "source": [
    "from langchain_groq import ChatGroq\n",
    "llm = ChatGroq(model=\"Gemma2-9b-It\" , groq_api_key=groq_api_key)\n",
    "llm"
   ]
  },
  {
   "cell_type": "code",
   "execution_count": 3,
   "id": "c1af372c",
   "metadata": {},
   "outputs": [],
   "source": [
    "from langchain.prompts import FewShotPromptTemplate, PromptTemplate\n",
    "from langchain.chains import LLMChain\n",
    "from langchain_groq import ChatGroq\n",
    "\n",
    "# Example labeled texts\n",
    "examples = [\n",
    "    {\n",
    "        \"text\": \"Subject: Urgent complaint about service\\nBody: I am extremely disappointed with the recent support...\",\n",
    "        \"format\": \"email\",\n",
    "        \"intent\": \"complaint\",\n",
    "        \"route_to\": \"email_agent\"\n",
    "    },\n",
    "    {\n",
    "        \"text\": '{{\"invoice_id\": 1234, \"total\": 15000, \"items\": [\"item1\", \"item2\"]}}',\n",
    "        \"format\": \"json\",\n",
    "        \"intent\": \"invoice\",\n",
    "        \"route_to\": \"json_agent\"\n",
    "    },\n",
    "    {\n",
    "        \"text\": \"Invoice No. 7890\\nTotal Amount: $12000\\nDue Date: 30th May\",\n",
    "        \"format\": \"pdf\",\n",
    "        \"intent\": \"invoice\",\n",
    "        \"route_to\": \"pdf_agent\"\n",
    "    },\n",
    "    {\n",
    "        \"text\": \"Regulation Notice: The new GDPR compliance rules have been updated for 2024.\",\n",
    "        \"format\": \"pdf\",\n",
    "        \"intent\": \"regulation\",\n",
    "        \"route_to\": \"pdf_agent\"\n",
    "    }\n",
    "]\n",
    "\n",
    "\n",
    "# Template for each example\n",
    "example_prompt = PromptTemplate(\n",
    "    input_variables=[\"text\", \"format\", \"intent\", \"route_to\"],\n",
    "    template=\"Input: {text}\\nFormat: {format}\\nIntent: {intent}\\nRoute to: {route_to}\\n\"\n",
    ")\n",
    "\n",
    "prompt = FewShotPromptTemplate(\n",
    "    examples=examples,\n",
    "    example_prompt=example_prompt,\n",
    "    prefix=\"Classify the input text into:\\n- Format (email, json, pdf)\\n- Intent (complaint, invoice, rfq, fraud risk, regulation)\\n- Route to the correct agent based on the classification.\\n\\n\",\n",
    "    suffix=\"Input: {input}\\nFormat:\",\n",
    "    input_variables=[\"input\"]\n",
    ")\n",
    "\n"
   ]
  },
  {
   "cell_type": "code",
   "execution_count": 4,
   "id": "a2a19c18",
   "metadata": {},
   "outputs": [
    {
     "name": "stderr",
     "output_type": "stream",
     "text": [
      "C:\\Users\\SYAM\\AppData\\Local\\Temp\\ipykernel_24696\\2547271664.py:3: LangChainDeprecationWarning: The class `LLMChain` was deprecated in LangChain 0.1.17 and will be removed in 1.0. Use :meth:`~RunnableSequence, e.g., `prompt | llm`` instead.\n",
      "  classifier_chain = LLMChain(llm=llm, prompt=prompt)\n"
     ]
    }
   ],
   "source": [
    "llm = ChatGroq(model=\"Gemma2-9b-It\" , groq_api_key=groq_api_key)\n",
    "\n",
    "classifier_chain = LLMChain(llm=llm, prompt=prompt)"
   ]
  },
  {
   "cell_type": "code",
   "execution_count": 9,
   "id": "666d1b7f",
   "metadata": {},
   "outputs": [
    {
     "name": "stdout",
     "output_type": "stream",
     "text": [
      "LLM Raw Output:\n",
      " Format: email\n",
      "Intent: complaint\n",
      "Route to: email_agent \n",
      "\n",
      "\n",
      "Let me know if you have more examples! \n",
      "\n"
     ]
    }
   ],
   "source": [
    "# Simulated user input (in plain text)\n",
    "input_text = \"\"\"\n",
    "\n",
    "\n",
    "From: manager@corp.com\n",
    "Subject: Urgent Complaint\n",
    "Body: We’ve been facing repeated issues with the delivery timelines. Please address this at the earliest.\n",
    "\n",
    "\n",
    "\n",
    "\"\"\"\n",
    "\n",
    "# Run the classifier chain\n",
    "llm_output = classifier_chain.run(input=input_text)\n",
    "print(\"LLM Raw Output:\\n\", llm_output)\n"
   ]
  },
  {
   "cell_type": "code",
   "execution_count": 10,
   "id": "1c6f5b6a",
   "metadata": {},
   "outputs": [
    {
     "name": "stdout",
     "output_type": "stream",
     "text": [
      "Structured Output:\n",
      " {'format': 'email', 'intent': 'complaint', 'route_to': 'email_agent'}\n"
     ]
    }
   ],
   "source": [
    "def parse_llm_output(output_str):\n",
    "    try:\n",
    "        lines = output_str.strip().split(\"\\n\")\n",
    "        format_line = [l for l in lines if \"format\" in l.lower()]\n",
    "        intent_line = [l for l in lines if \"intent\" in l.lower()]\n",
    "        return {\n",
    "            \"format\": format_line[0].split(\":\")[-1].strip().lower() if format_line else \"unknown\",\n",
    "            \"intent\": intent_line[0].split(\":\")[-1].strip().lower() if intent_line else \"unknown\",\n",
    "            \"route_to\": f\"{format_line[0].split(':')[-1].strip().lower()}_agent\" if format_line else \"unknown\"\n",
    "        }\n",
    "    except:\n",
    "        return {\"format\": \"unknown\", \"intent\": \"unknown\", \"route_to\": \"unknown\"}\n",
    "\n",
    "parsed_output = parse_llm_output(llm_output)\n",
    "print(\"Structured Output:\\n\", parsed_output)\n"
   ]
  },
  {
   "cell_type": "code",
   "execution_count": 11,
   "id": "3efe3745",
   "metadata": {},
   "outputs": [],
   "source": [
    "from datetime import datetime\n",
    "\n",
    "shared_memory = {}\n",
    "\n",
    "def store_to_memory(input_text, llm_output):\n",
    "    parsed = parse_llm_output(llm_output)  # your existing parse logic\n",
    "    classifier_metadata = {\n",
    "        \"source\": \"upload\",  # or \"email\", \"api\", etc.\n",
    "        \"timestamp\": datetime.now().isoformat(),\n",
    "        \"format\": parsed[\"format\"],\n",
    "        \"intent\": parsed[\"intent\"],\n",
    "        \"route_to_agent\": parsed[\"route_to\"],\n",
    "        \"classifier_trace\": llm_output\n",
    "    }\n",
    "    shared_memory[\"input_001\"] = classifier_metadata\n",
    "    return classifier_metadata\n"
   ]
  },
  {
   "cell_type": "code",
   "execution_count": 12,
   "id": "10148174",
   "metadata": {},
   "outputs": [
    {
     "data": {
      "text/plain": [
       "{'source': 'upload',\n",
       " 'timestamp': '2025-06-04T06:59:17.672317',\n",
       " 'format': 'email',\n",
       " 'intent': 'complaint',\n",
       " 'route_to_agent': 'email_agent',\n",
       " 'classifier_trace': 'Format: email\\nIntent: complaint\\nRoute to: email_agent \\n\\n\\nLet me know if you have more examples! \\n'}"
      ]
     },
     "execution_count": 12,
     "metadata": {},
     "output_type": "execute_result"
    }
   ],
   "source": [
    "store_to_memory(input_text, llm_output)"
   ]
  },
  {
   "cell_type": "code",
   "execution_count": null,
   "id": "4a643349",
   "metadata": {},
   "outputs": [],
   "source": []
  }
 ],
 "metadata": {
  "kernelspec": {
   "display_name": "langchain_venv",
   "language": "python",
   "name": "python3"
  },
  "language_info": {
   "codemirror_mode": {
    "name": "ipython",
    "version": 3
   },
   "file_extension": ".py",
   "mimetype": "text/x-python",
   "name": "python",
   "nbconvert_exporter": "python",
   "pygments_lexer": "ipython3",
   "version": "3.10.10"
  }
 },
 "nbformat": 4,
 "nbformat_minor": 5
}
