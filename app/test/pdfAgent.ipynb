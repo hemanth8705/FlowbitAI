{
 "cells": [
  {
   "cell_type": "code",
   "execution_count": 4,
   "id": "9de7063d",
   "metadata": {},
   "outputs": [
    {
     "data": {
      "text/plain": [
       "{'doc_type': 'policy',\n",
       " 'title': 'Data Privacy Agreement',\n",
       " 'issuer': 'NeonCorp Inc',\n",
       " 'mentions': ['GDPR', 'HIPAA'],\n",
       " 'flagged': True,\n",
       " 'reason': 'Mentions GDPR',\n",
       " 'action': 'route_to_compliance_agent',\n",
       " 'confidence': 0.91}"
      ]
     },
     "execution_count": 4,
     "metadata": {},
     "output_type": "execute_result"
    }
   ],
   "source": [
    "{\n",
    "  \"doc_type\": \"policy\",\n",
    "  \"title\": \"Data Privacy Agreement\",\n",
    "  \"issuer\": \"NeonCorp Inc\",\n",
    "  \"mentions\": [\"GDPR\", \"HIPAA\"],\n",
    "  \"flagged\": True,\n",
    "  \"reason\": \"Mentions GDPR\",\n",
    "  \"action\": \"route_to_compliance_agent\",\n",
    "  \"confidence\": 0.91\n",
    "}\n"
   ]
  },
  {
   "cell_type": "code",
   "execution_count": null,
   "id": "6484c69e",
   "metadata": {},
   "outputs": [],
   "source": []
  }
 ],
 "metadata": {
  "kernelspec": {
   "display_name": "langchain_venv",
   "language": "python",
   "name": "python3"
  },
  "language_info": {
   "codemirror_mode": {
    "name": "ipython",
    "version": 3
   },
   "file_extension": ".py",
   "mimetype": "text/x-python",
   "name": "python",
   "nbconvert_exporter": "python",
   "pygments_lexer": "ipython3",
   "version": "3.10.10"
  }
 },
 "nbformat": 4,
 "nbformat_minor": 5
}
